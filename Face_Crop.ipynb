{
  "nbformat": 4,
  "nbformat_minor": 0,
  "metadata": {
    "colab": {
      "name": "Face_Crop.ipynb",
      "provenance": [],
      "collapsed_sections": [],
      "include_colab_link": true
    },
    "kernelspec": {
      "name": "python3",
      "display_name": "Python 3"
    },
    "language_info": {
      "name": "python"
    }
  },
  "cells": [
    {
      "cell_type": "markdown",
      "metadata": {
        "id": "view-in-github",
        "colab_type": "text"
      },
      "source": [
        "<a href=\"https://colab.research.google.com/github/happyssun96/MBTI_By_Face/blob/main/Face_Crop.ipynb\" target=\"_parent\"><img src=\"https://colab.research.google.com/assets/colab-badge.svg\" alt=\"Open In Colab\"/></a>"
      ]
    },
    {
      "cell_type": "code",
      "metadata": {
        "id": "ceosmWy8Ko_q"
      },
      "source": [
        "from google.colab import drive\n",
        "drive.mount('/content/dirve')"
      ],
      "execution_count": null,
      "outputs": []
    },
    {
      "cell_type": "code",
      "metadata": {
        "id": "SI7m_1fF2N85"
      },
      "source": [
        "import cv2\n",
        "import glob\n",
        "import os\n",
        "\n",
        "input_dir = \"/content/dirve/Shareddrives/Code-15/MBTI/INTP/INTP_Input\" ## 사진이 들어있는 폴더\n",
        "output_dir = \"/content/dirve/Shareddrives/Code-15/MBTI/INTP/INTP_Output\" ## 사진을 뱉는 폴더\n",
        "files = os.listdir(input_dir)\n",
        "print(files)\n",
        "face_cascade = cv2.CascadeClassifier('/content/dirve/Shareddrives/Code-15/MBTI/haarcascade_frontalface.xml')\n",
        "\n",
        "for el in files:\n",
        "    splt = el.split(\".\") # 파일 이름\n",
        "    ext = splt.pop() # 파일 확장자\n",
        "    if ext in \"jpg jpeg png bmp JPG JPEG PNG BMP\":\n",
        "    \n",
        "      img_files = input_dir+'/'+ el\n",
        "      img = cv2.imread(img_files)\n",
        "      gray = cv2.cvtColor(img, cv2.COLOR_BGR2GRAY)\n",
        "      \n",
        "      faces = face_cascade.detectMultiScale(gray, 1.3, 5)\n",
        "      for (x, y, w, h) in faces:\n",
        "          cropped = img[y - int(h / 4):y + h + int(h / 4), x - int(w / 4):x + w + int(w / 4)]\n",
        "          if cropped.size == 0:\n",
        "            print(el+' 파일 출력실패')\n",
        "            break\n",
        "          # 이미지를 저장\n",
        "          cv2.imwrite(output_dir+'/'+el, cropped)"
      ],
      "execution_count": null,
      "outputs": []
    }
  ]
}